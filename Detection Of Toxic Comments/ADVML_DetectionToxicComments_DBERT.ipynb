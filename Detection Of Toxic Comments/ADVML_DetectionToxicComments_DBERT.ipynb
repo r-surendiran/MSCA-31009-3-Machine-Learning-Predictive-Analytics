{
 "cells": [
  {
   "cell_type": "markdown",
   "metadata": {
    "id": "5gWrjklLV-md"
   },
   "source": [
    "The goal of the project is to identify and classify toxic online comments. The project is based on the dataset from Jigsaw's Toxic Comment ClassificationChallenge, organized by Kaggle. See more information about this contest and brief dataset analysis in the notebook MScA_32017_AMLAI_TC2_DataOverview.ipynb.\n",
    "\n",
    "**Data**\n",
    "\n",
    "Download data from kaggle.com:\n",
    "\n",
    "*train.csv, test.csv, test_labels.csv.*\n",
    "\n",
    "Train and test data files format is shown in the notebook *MScA_32017_AMLAI_TC2_DataOverview.ipynb.* \n",
    "\n",
    "Note that part of test data was moved to the train after test labels disclosure. Modified files were created there as tc_train.csv and tc_test.csv.\n"
   ]
  },
  {
   "cell_type": "code",
   "execution_count": 1,
   "metadata": {
    "colab": {
     "base_uri": "https://localhost:8080/"
    },
    "executionInfo": {
     "elapsed": 14606,
     "status": "ok",
     "timestamp": 1628554133235,
     "user": {
      "displayName": "Surendiran R",
      "photoUrl": "",
      "userId": "18390139258981184421"
     },
     "user_tz": 300
    },
    "id": "b9GxY2mdWsfe",
    "outputId": "c585d32a-cc4b-47da-f633-0c892a6db9cd"
   },
   "outputs": [
    {
     "name": "stdout",
     "output_type": "stream",
     "text": [
      "Collecting transformers\n",
      "  Downloading transformers-4.9.2-py3-none-any.whl (2.6 MB)\n",
      "Requirement already satisfied: regex!=2019.12.17 in c:\\users\\rsure\\anaconda3\\lib\\site-packages (from transformers) (2021.4.4)\n",
      "Requirement already satisfied: tqdm>=4.27 in c:\\users\\rsure\\anaconda3\\lib\\site-packages (from transformers) (4.59.0)\n",
      "Requirement already satisfied: pyyaml>=5.1 in c:\\users\\rsure\\anaconda3\\lib\\site-packages (from transformers) (5.4.1)\n",
      "Collecting tokenizers<0.11,>=0.10.1\n",
      "  Downloading tokenizers-0.10.3-cp38-cp38-win_amd64.whl (2.0 MB)\n",
      "Requirement already satisfied: requests in c:\\users\\rsure\\anaconda3\\lib\\site-packages (from transformers) (2.25.1)\n",
      "Requirement already satisfied: packaging in c:\\users\\rsure\\anaconda3\\lib\\site-packages (from transformers) (20.9)\n",
      "Requirement already satisfied: numpy>=1.17 in c:\\users\\rsure\\anaconda3\\lib\\site-packages (from transformers) (1.19.5)\n",
      "Collecting huggingface-hub==0.0.12\n",
      "  Downloading huggingface_hub-0.0.12-py3-none-any.whl (37 kB)\n",
      "Collecting sacremoses\n",
      "  Using cached sacremoses-0.0.45-py3-none-any.whl (895 kB)\n",
      "Requirement already satisfied: filelock in c:\\users\\rsure\\anaconda3\\lib\\site-packages (from transformers) (3.0.12)\n",
      "Requirement already satisfied: typing-extensions in c:\\users\\rsure\\anaconda3\\lib\\site-packages (from huggingface-hub==0.0.12->transformers) (3.7.4.3)\n",
      "Requirement already satisfied: pyparsing>=2.0.2 in c:\\users\\rsure\\anaconda3\\lib\\site-packages (from packaging->transformers) (2.4.7)\n",
      "Requirement already satisfied: urllib3<1.27,>=1.21.1 in c:\\users\\rsure\\anaconda3\\lib\\site-packages (from requests->transformers) (1.26.4)\n",
      "Requirement already satisfied: certifi>=2017.4.17 in c:\\users\\rsure\\anaconda3\\lib\\site-packages (from requests->transformers) (2020.12.5)\n",
      "Requirement already satisfied: chardet<5,>=3.0.2 in c:\\users\\rsure\\anaconda3\\lib\\site-packages (from requests->transformers) (4.0.0)\n",
      "Requirement already satisfied: idna<3,>=2.5 in c:\\users\\rsure\\anaconda3\\lib\\site-packages (from requests->transformers) (2.10)\n",
      "Requirement already satisfied: joblib in c:\\users\\rsure\\anaconda3\\lib\\site-packages (from sacremoses->transformers) (1.0.1)\n",
      "Requirement already satisfied: click in c:\\users\\rsure\\anaconda3\\lib\\site-packages (from sacremoses->transformers) (7.1.2)\n",
      "Requirement already satisfied: six in c:\\users\\rsure\\anaconda3\\lib\\site-packages (from sacremoses->transformers) (1.15.0)\n",
      "Installing collected packages: tokenizers, sacremoses, huggingface-hub, transformers\n",
      "Successfully installed huggingface-hub-0.0.12 sacremoses-0.0.45 tokenizers-0.10.3 transformers-4.9.2\n",
      "Collecting datasets\n",
      "  Downloading datasets-1.11.0-py3-none-any.whl (264 kB)\n",
      "Requirement already satisfied: packaging in c:\\users\\rsure\\anaconda3\\lib\\site-packages (from datasets) (20.9)\n",
      "Collecting dill\n",
      "  Downloading dill-0.3.4-py2.py3-none-any.whl (86 kB)\n",
      "Collecting multiprocess\n",
      "  Downloading multiprocess-0.70.12.2-py38-none-any.whl (128 kB)\n",
      "Requirement already satisfied: tqdm>=4.42 in c:\\users\\rsure\\anaconda3\\lib\\site-packages (from datasets) (4.59.0)\n",
      "Requirement already satisfied: numpy>=1.17 in c:\\users\\rsure\\anaconda3\\lib\\site-packages (from datasets) (1.19.5)\n",
      "Collecting xxhash\n",
      "  Downloading xxhash-2.0.2-cp38-cp38-win_amd64.whl (35 kB)\n",
      "Requirement already satisfied: requests>=2.19.0 in c:\\users\\rsure\\anaconda3\\lib\\site-packages (from datasets) (2.25.1)\n",
      "Requirement already satisfied: pandas in c:\\users\\rsure\\anaconda3\\lib\\site-packages (from datasets) (1.2.4)\n",
      "Requirement already satisfied: huggingface-hub<0.1.0 in c:\\users\\rsure\\anaconda3\\lib\\site-packages (from datasets) (0.0.12)\n",
      "Collecting pyarrow!=4.0.0,>=1.0.0\n",
      "  Downloading pyarrow-5.0.0-cp38-cp38-win_amd64.whl (14.5 MB)\n",
      "Collecting fsspec>=2021.05.0\n",
      "  Downloading fsspec-2021.7.0-py3-none-any.whl (118 kB)\n",
      "Requirement already satisfied: typing-extensions in c:\\users\\rsure\\anaconda3\\lib\\site-packages (from huggingface-hub<0.1.0->datasets) (3.7.4.3)\n",
      "Requirement already satisfied: filelock in c:\\users\\rsure\\anaconda3\\lib\\site-packages (from huggingface-hub<0.1.0->datasets) (3.0.12)\n",
      "Requirement already satisfied: pyparsing>=2.0.2 in c:\\users\\rsure\\anaconda3\\lib\\site-packages (from packaging->datasets) (2.4.7)\n",
      "Requirement already satisfied: certifi>=2017.4.17 in c:\\users\\rsure\\anaconda3\\lib\\site-packages (from requests>=2.19.0->datasets) (2020.12.5)\n",
      "Requirement already satisfied: chardet<5,>=3.0.2 in c:\\users\\rsure\\anaconda3\\lib\\site-packages (from requests>=2.19.0->datasets) (4.0.0)\n",
      "Requirement already satisfied: idna<3,>=2.5 in c:\\users\\rsure\\anaconda3\\lib\\site-packages (from requests>=2.19.0->datasets) (2.10)\n",
      "Requirement already satisfied: urllib3<1.27,>=1.21.1 in c:\\users\\rsure\\anaconda3\\lib\\site-packages (from requests>=2.19.0->datasets) (1.26.4)\n",
      "Requirement already satisfied: python-dateutil>=2.7.3 in c:\\users\\rsure\\anaconda3\\lib\\site-packages (from pandas->datasets) (2.8.1)\n",
      "Requirement already satisfied: pytz>=2017.3 in c:\\users\\rsure\\anaconda3\\lib\\site-packages (from pandas->datasets) (2021.1)\n",
      "Requirement already satisfied: six>=1.5 in c:\\users\\rsure\\anaconda3\\lib\\site-packages (from python-dateutil>=2.7.3->pandas->datasets) (1.15.0)\n",
      "Installing collected packages: dill, xxhash, pyarrow, multiprocess, fsspec, datasets\n",
      "  Attempting uninstall: fsspec\n",
      "    Found existing installation: fsspec 0.9.0\n",
      "    Uninstalling fsspec-0.9.0:\n",
      "      Successfully uninstalled fsspec-0.9.0\n",
      "Successfully installed datasets-1.11.0 dill-0.3.4 fsspec-2021.7.0 multiprocess-0.70.12.2 pyarrow-5.0.0 xxhash-2.0.2\n"
     ]
    }
   ],
   "source": [
    "!pip --disable-pip-version-check install transformers\n",
    "!pip --disable-pip-version-check install datasets"
   ]
  },
  {
   "cell_type": "markdown",
   "metadata": {
    "id": "CKVz5j5HWdmk"
   },
   "source": [
    "**Import Libraries**"
   ]
  },
  {
   "cell_type": "code",
   "execution_count": 2,
   "metadata": {
    "executionInfo": {
     "elapsed": 1231,
     "status": "ok",
     "timestamp": 1628554944220,
     "user": {
      "displayName": "Surendiran R",
      "photoUrl": "",
      "userId": "18390139258981184421"
     },
     "user_tz": 300
    },
    "id": "7F_LpnrQWgBY"
   },
   "outputs": [],
   "source": [
    "%matplotlib inline\n",
    "import numpy as np\n",
    "import pandas as pd\n",
    "import os\n",
    "import pickle\n",
    "from matplotlib import pyplot as plt\n",
    "\n",
    "from sklearn.preprocessing import LabelEncoder\n",
    "from sklearn.model_selection import train_test_split\n",
    "from pathlib import Path\n",
    "from sklearn.metrics import roc_auc_score"
   ]
  },
  {
   "cell_type": "code",
   "execution_count": 3,
   "metadata": {
    "executionInfo": {
     "elapsed": 8509,
     "status": "ok",
     "timestamp": 1628554954504,
     "user": {
      "displayName": "Surendiran R",
      "photoUrl": "",
      "userId": "18390139258981184421"
     },
     "user_tz": 300
    },
    "id": "_03kwc0HZnIy"
   },
   "outputs": [],
   "source": [
    "from transformers import AutoTokenizer, TFAutoModel, logging\n",
    "import tensorflow as tf\n",
    "from tensorflow.keras import Model, Input \n",
    "from tensorflow.keras.layers import Dense, Dropout\n",
    "from tensorflow.keras.optimizers import RMSprop, Adam\n",
    "from tensorflow.keras.callbacks import ModelCheckpoint"
   ]
  },
  {
   "cell_type": "markdown",
   "metadata": {
    "id": "7IxdZC7EZ6TW"
   },
   "source": [
    "**Set Working Directories**"
   ]
  },
  {
   "cell_type": "code",
   "execution_count": 4,
   "metadata": {
    "colab": {
     "base_uri": "https://localhost:8080/"
    },
    "executionInfo": {
     "elapsed": 129,
     "status": "ok",
     "timestamp": 1628554956575,
     "user": {
      "displayName": "Surendiran R",
      "photoUrl": "",
      "userId": "18390139258981184421"
     },
     "user_tz": 300
    },
    "id": "u5tnUm0FW03j",
    "outputId": "a9ee6db8-9ce7-423f-f794-45d6e73d065a"
   },
   "outputs": [],
   "source": [
    "Rcc=True\n",
    "if not Rcc:\n",
    "    from google.colab import drive\n",
    "    drive.mount('/content/drive')"
   ]
  },
  {
   "cell_type": "code",
   "execution_count": 5,
   "metadata": {
    "executionInfo": {
     "elapsed": 151,
     "status": "ok",
     "timestamp": 1628554959676,
     "user": {
      "displayName": "Surendiran R",
      "photoUrl": "",
      "userId": "18390139258981184421"
     },
     "user_tz": 300
    },
    "id": "ziQXQN-LW3oV"
   },
   "outputs": [],
   "source": [
    "# the base Google Drive directory\n",
    "MODEL =  'distilbert-base-uncased'\n",
    "if not Rcc:\n",
    "    root_dir = \"/content/drive/My Drive/\"\n",
    "    # choose where you want your project files to be saved\n",
    "    project_folder = \"Colab Notebooks/ADVML/ToxicComments/code/\"\n",
    "    data_folder = \"Colab Notebooks/ADVML/ToxicComments/data/\"\n",
    "    model_path=root_dir+MODEL\n",
    "    #!ls -l \"/content/drive/My Drive/Colab Notebooks/ADVML/ToxicComments/data\"\n",
    "else:\n",
    "    root_dir = \"/cloud/msca-gcp/surendiran/\"\n",
    "    # choose where you want your project files to be saved\n",
    "    project_folder = \"toxicComments/code/\"\n",
    "    data_folder = \"toxicComments/data/\"\n",
    "    model_path=project_folder+MODEL\n",
    "   "
   ]
  },
  {
   "cell_type": "code",
   "execution_count": 7,
   "metadata": {
    "executionInfo": {
     "elapsed": 133,
     "status": "ok",
     "timestamp": 1628554963202,
     "user": {
      "displayName": "Surendiran R",
      "photoUrl": "",
      "userId": "18390139258981184421"
     },
     "user_tz": 300
    },
    "id": "_0FzfDWxW3--"
   },
   "outputs": [],
   "source": [
    "# Set your working directory to a folder in your Google Drive. This way, if your notebook times out,\n",
    "# your files will be saved in your Google Drive!\n",
    "def set_WD(project_folder):\n",
    "    # change the OS to use your project folder as the working directory\n",
    "  os.chdir(root_dir + project_folder)\n",
    "  print('\\nYour working directory was changed to ' + root_dir + project_folder + \\\n",
    "        \"\\nYou can also run !pwd to confirm the current working directory.\" )\n",
    "\n",
    "\n",
    "def create_directory(project_folder):\n",
    "  # check if your project folder exists. if not, it will be created.\n",
    "  if os.path.isdir(root_dir + project_folder) == False:\n",
    "    os.mkdir(root_dir + project_folder)\n",
    "    print(root_dir + project_folder + ' did not exist but was created.')\n"
   ]
  },
  {
   "cell_type": "code",
   "execution_count": 8,
   "metadata": {
    "colab": {
     "base_uri": "https://localhost:8080/"
    },
    "executionInfo": {
     "elapsed": 135,
     "status": "ok",
     "timestamp": 1628554965832,
     "user": {
      "displayName": "Surendiran R",
      "photoUrl": "",
      "userId": "18390139258981184421"
     },
     "user_tz": 300
    },
    "id": "l-9SxiKsYw5g",
    "outputId": "4de56530-dea2-4505-fe77-fc54796f7708"
   },
   "outputs": [
    {
     "name": "stdout",
     "output_type": "stream",
     "text": [
      "\n",
      "Your working directory was changed to /content/drive/My Drive/Colab Notebooks/ADVML/ToxicComments/code/\n",
      "You can also run !pwd to confirm the current working directory.\n"
     ]
    }
   ],
   "source": [
    "create_directory(project_folder)\n",
    "create_directory(data_folder)\n",
    "set_WD(project_folder)"
   ]
  },
  {
   "cell_type": "code",
   "execution_count": 9,
   "metadata": {
    "colab": {
     "base_uri": "https://localhost:8080/"
    },
    "executionInfo": {
     "elapsed": 150,
     "status": "ok",
     "timestamp": 1628554967163,
     "user": {
      "displayName": "Surendiran R",
      "photoUrl": "",
      "userId": "18390139258981184421"
     },
     "user_tz": 300
    },
    "id": "GbRvtSDbY9jS",
    "outputId": "43636a34-5743-4f86-8def-161d3fcaa4a7"
   },
   "outputs": [
    {
     "name": "stdout",
     "output_type": "stream",
     "text": [
      "/content/drive/My Drive/Colab Notebooks/ADVML/ToxicComments/code\n"
     ]
    }
   ],
   "source": [
    "#!pwd"
   ]
  },
  {
   "cell_type": "code",
   "execution_count": 10,
   "metadata": {
    "colab": {
     "base_uri": "https://localhost:8080/",
     "height": 390
    },
    "executionInfo": {
     "elapsed": 1903,
     "status": "ok",
     "timestamp": 1628554971225,
     "user": {
      "displayName": "Surendiran R",
      "photoUrl": "",
      "userId": "18390139258981184421"
     },
     "user_tz": 300
    },
    "id": "sFoFEc95aD0z",
    "outputId": "a9bc82e6-f220-4d2a-816a-65b4d119a683"
   },
   "outputs": [
    {
     "data": {
      "text/html": [
       "<div>\n",
       "<style scoped>\n",
       "    .dataframe tbody tr th:only-of-type {\n",
       "        vertical-align: middle;\n",
       "    }\n",
       "\n",
       "    .dataframe tbody tr th {\n",
       "        vertical-align: top;\n",
       "    }\n",
       "\n",
       "    .dataframe thead th {\n",
       "        text-align: right;\n",
       "    }\n",
       "</style>\n",
       "<table border=\"1\" class=\"dataframe\">\n",
       "  <thead>\n",
       "    <tr style=\"text-align: right;\">\n",
       "      <th></th>\n",
       "      <th>comment_text</th>\n",
       "      <th>toxic</th>\n",
       "      <th>severe_toxic</th>\n",
       "      <th>obscene</th>\n",
       "      <th>threat</th>\n",
       "      <th>insult</th>\n",
       "      <th>identity_hate</th>\n",
       "    </tr>\n",
       "    <tr>\n",
       "      <th>id</th>\n",
       "      <th></th>\n",
       "      <th></th>\n",
       "      <th></th>\n",
       "      <th></th>\n",
       "      <th></th>\n",
       "      <th></th>\n",
       "      <th></th>\n",
       "    </tr>\n",
       "  </thead>\n",
       "  <tbody>\n",
       "    <tr>\n",
       "      <th>0000997932d777bf</th>\n",
       "      <td>Explanation\\nWhy the edits made under my usern...</td>\n",
       "      <td>0</td>\n",
       "      <td>0</td>\n",
       "      <td>0</td>\n",
       "      <td>0</td>\n",
       "      <td>0</td>\n",
       "      <td>0</td>\n",
       "    </tr>\n",
       "    <tr>\n",
       "      <th>000103f0d9cfb60f</th>\n",
       "      <td>D'aww! He matches this background colour I'm s...</td>\n",
       "      <td>0</td>\n",
       "      <td>0</td>\n",
       "      <td>0</td>\n",
       "      <td>0</td>\n",
       "      <td>0</td>\n",
       "      <td>0</td>\n",
       "    </tr>\n",
       "    <tr>\n",
       "      <th>000113f07ec002fd</th>\n",
       "      <td>Hey man, I'm really not trying to edit war. It...</td>\n",
       "      <td>0</td>\n",
       "      <td>0</td>\n",
       "      <td>0</td>\n",
       "      <td>0</td>\n",
       "      <td>0</td>\n",
       "      <td>0</td>\n",
       "    </tr>\n",
       "    <tr>\n",
       "      <th>0001b41b1c6bb37e</th>\n",
       "      <td>\"\\nMore\\nI can't make any real suggestions on ...</td>\n",
       "      <td>0</td>\n",
       "      <td>0</td>\n",
       "      <td>0</td>\n",
       "      <td>0</td>\n",
       "      <td>0</td>\n",
       "      <td>0</td>\n",
       "    </tr>\n",
       "    <tr>\n",
       "      <th>0001d958c54c6e35</th>\n",
       "      <td>You, sir, are my hero. Any chance you remember...</td>\n",
       "      <td>0</td>\n",
       "      <td>0</td>\n",
       "      <td>0</td>\n",
       "      <td>0</td>\n",
       "      <td>0</td>\n",
       "      <td>0</td>\n",
       "    </tr>\n",
       "    <tr>\n",
       "      <th>00025465d4725e87</th>\n",
       "      <td>\"\\n\\nCongratulations from me as well, use the ...</td>\n",
       "      <td>0</td>\n",
       "      <td>0</td>\n",
       "      <td>0</td>\n",
       "      <td>0</td>\n",
       "      <td>0</td>\n",
       "      <td>0</td>\n",
       "    </tr>\n",
       "    <tr>\n",
       "      <th>0002bcb3da6cb337</th>\n",
       "      <td>COCKSUCKER BEFORE YOU PISS AROUND ON MY WORK</td>\n",
       "      <td>1</td>\n",
       "      <td>1</td>\n",
       "      <td>1</td>\n",
       "      <td>0</td>\n",
       "      <td>1</td>\n",
       "      <td>0</td>\n",
       "    </tr>\n",
       "    <tr>\n",
       "      <th>00031b1e95af7921</th>\n",
       "      <td>Your vandalism to the Matt Shirvington article...</td>\n",
       "      <td>0</td>\n",
       "      <td>0</td>\n",
       "      <td>0</td>\n",
       "      <td>0</td>\n",
       "      <td>0</td>\n",
       "      <td>0</td>\n",
       "    </tr>\n",
       "    <tr>\n",
       "      <th>00037261f536c51d</th>\n",
       "      <td>Sorry if the word 'nonsense' was offensive to ...</td>\n",
       "      <td>0</td>\n",
       "      <td>0</td>\n",
       "      <td>0</td>\n",
       "      <td>0</td>\n",
       "      <td>0</td>\n",
       "      <td>0</td>\n",
       "    </tr>\n",
       "    <tr>\n",
       "      <th>00040093b2687caa</th>\n",
       "      <td>alignment on this subject and which are contra...</td>\n",
       "      <td>0</td>\n",
       "      <td>0</td>\n",
       "      <td>0</td>\n",
       "      <td>0</td>\n",
       "      <td>0</td>\n",
       "      <td>0</td>\n",
       "    </tr>\n",
       "  </tbody>\n",
       "</table>\n",
       "</div>"
      ],
      "text/plain": [
       "                                                       comment_text  ...  identity_hate\n",
       "id                                                                   ...               \n",
       "0000997932d777bf  Explanation\\nWhy the edits made under my usern...  ...              0\n",
       "000103f0d9cfb60f  D'aww! He matches this background colour I'm s...  ...              0\n",
       "000113f07ec002fd  Hey man, I'm really not trying to edit war. It...  ...              0\n",
       "0001b41b1c6bb37e  \"\\nMore\\nI can't make any real suggestions on ...  ...              0\n",
       "0001d958c54c6e35  You, sir, are my hero. Any chance you remember...  ...              0\n",
       "00025465d4725e87  \"\\n\\nCongratulations from me as well, use the ...  ...              0\n",
       "0002bcb3da6cb337       COCKSUCKER BEFORE YOU PISS AROUND ON MY WORK  ...              0\n",
       "00031b1e95af7921  Your vandalism to the Matt Shirvington article...  ...              0\n",
       "00037261f536c51d  Sorry if the word 'nonsense' was offensive to ...  ...              0\n",
       "00040093b2687caa  alignment on this subject and which are contra...  ...              0\n",
       "\n",
       "[10 rows x 7 columns]"
      ]
     },
     "execution_count": 10,
     "metadata": {
      "tags": []
     },
     "output_type": "execute_result"
    }
   ],
   "source": [
    "dataPath = root_dir+data_folder\n",
    "train = pd.read_csv(dataPath + 'tc_train.csv',index_col=0)\n",
    "train.head(10)"
   ]
  },
  {
   "cell_type": "code",
   "execution_count": 11,
   "metadata": {
    "executionInfo": {
     "elapsed": 796,
     "status": "ok",
     "timestamp": 1628554973703,
     "user": {
      "displayName": "Surendiran R",
      "photoUrl": "",
      "userId": "18390139258981184421"
     },
     "user_tz": 300
    },
    "id": "uuaThbjhbCU7"
   },
   "outputs": [],
   "source": [
    "test = pd.read_csv(dataPath+'tc_test.csv',index_col=0)\n",
    "#test_labels = pd.read_csv(dataPath+'test_labels.csv',index_col=0)"
   ]
  },
  {
   "cell_type": "code",
   "execution_count": 12,
   "metadata": {
    "colab": {
     "base_uri": "https://localhost:8080/"
    },
    "executionInfo": {
     "elapsed": 8,
     "status": "ok",
     "timestamp": 1628554974287,
     "user": {
      "displayName": "Surendiran R",
      "photoUrl": "",
      "userId": "18390139258981184421"
     },
     "user_tz": 300
    },
    "id": "NlO9yU_qgpis",
    "outputId": "1a8b5c81-67e1-4fe3-d096-ca10261cf338"
   },
   "outputs": [
    {
     "name": "stdout",
     "output_type": "stream",
     "text": [
      "                                                       comment_text\n",
      "id                                                                 \n",
      "00001cee341fdb12  Yo bitch Ja Rule is more succesful then you'll...\n",
      "0000247867823ef7  == From RfC == \\n\\n The title is fine as it is...\n",
      "00013b17ad220c46  \" \\n\\n == Sources == \\n\\n * Zawe Ashton on Lap...\n",
      "00017563c3f7919a  :If you have a look back at the source, the in...\n",
      "00017695ad8997eb          I don't anonymously edit articles at all.\n"
     ]
    }
   ],
   "source": [
    "#print(test.head())"
   ]
  },
  {
   "cell_type": "markdown",
   "metadata": {
    "id": "2KboH7SXaoTH"
   },
   "source": [
    "The data contain columns of id, text comment and 6 columns of class indicators which are the target variables.\n",
    "\n",
    "The target variables are the following types of toxicity:"
   ]
  },
  {
   "cell_type": "code",
   "execution_count": 13,
   "metadata": {
    "colab": {
     "base_uri": "https://localhost:8080/"
    },
    "executionInfo": {
     "elapsed": 128,
     "status": "ok",
     "timestamp": 1628554977670,
     "user": {
      "displayName": "Surendiran R",
      "photoUrl": "",
      "userId": "18390139258981184421"
     },
     "user_tz": 300
    },
    "id": "CU0hNJ62apDx",
    "outputId": "3897cade-f1cf-4e34-a219-514a2b2a26a8"
   },
   "outputs": [
    {
     "name": "stdout",
     "output_type": "stream",
     "text": [
      "['toxic', 'severe_toxic', 'obscene', 'threat', 'insult', 'identity_hate'] 6\n"
     ]
    }
   ],
   "source": [
    "types = list(train)[1:]\n",
    "num_classes = len(types)\n",
    "print(types,num_classes)"
   ]
  },
  {
   "cell_type": "markdown",
   "metadata": {
    "id": "nZ5CQOryasLT"
   },
   "source": [
    "Comments can belong to several classes simultaneously. The following figure shows frequences of the classes in the train set."
   ]
  },
  {
   "cell_type": "code",
   "execution_count": 14,
   "metadata": {
    "colab": {
     "base_uri": "https://localhost:8080/",
     "height": 282
    },
    "executionInfo": {
     "elapsed": 430,
     "status": "ok",
     "timestamp": 1628554981838,
     "user": {
      "displayName": "Surendiran R",
      "photoUrl": "",
      "userId": "18390139258981184421"
     },
     "user_tz": 300
    },
    "id": "nyMIp46Iat6_",
    "outputId": "ed0ab7d1-cf3e-4815-e26f-5d39d50e9eda"
   },
   "outputs": [
    {
     "data": {
      "text/plain": [
       "<matplotlib.axes._subplots.AxesSubplot at 0x7f8537383e10>"
      ]
     },
     "execution_count": 14,
     "metadata": {
      "tags": []
     },
     "output_type": "execute_result"
    },
    {
     "data": {
      "image/png": "[encoded data removed]",
      "text/plain": [
       "<Figure size 432x288 with 1 Axes>"
      ]
     },
     "metadata": {
      "needs_background": "light",
      "tags": []
     },
     "output_type": "display_data"
    }
   ],
   "source": [
    "#train[types].mean().plot(kind='barh')"
   ]
  },
  {
   "cell_type": "code",
   "execution_count": 15,
   "metadata": {
    "colab": {
     "base_uri": "https://localhost:8080/"
    },
    "executionInfo": {
     "elapsed": 129,
     "status": "ok",
     "timestamp": 1628554983239,
     "user": {
      "displayName": "Surendiran R",
      "photoUrl": "",
      "userId": "18390139258981184421"
     },
     "user_tz": 300
    },
    "id": "pC7ZO_lddTI1",
    "outputId": "543bfa30-58f1-4063-8a32-29f4454ffc1f"
   },
   "outputs": [
    {
     "name": "stdout",
     "output_type": "stream",
     "text": [
      "(223549, 7) (89186, 1)\n"
     ]
    }
   ],
   "source": [
    "print(train.shape,test.shape)"
   ]
  },
  {
   "cell_type": "markdown",
   "metadata": {
    "id": "TOt7ktrPWA_H"
   },
   "source": [
    "**Project steps**\n",
    "\n",
    "**Step 1.**\n",
    "Download FastText embeddings crawl-300d-2M.vec (see MScA_32017_AMLAI_TC1_NLP_Basics.ipynb)."
   ]
  },
  {
   "cell_type": "markdown",
   "metadata": {
    "id": "WaxBB_YiVtQN"
   },
   "source": [
    "Step 2.\n",
    "Using function get_embeddings() from MScA_32017_AMLAI_TC3_WineReviewsExample.ipynb create embeddings index - a dictionary with words as keys and embedding vectors as values."
   ]
  },
  {
   "cell_type": "markdown",
   "metadata": {
    "id": "Z7NJwMwlVuUl"
   },
   "source": [
    "Step 3.\n",
    "Preprocess text with the function preprocess() from MScA_32017_AMLAI_TC3_WineReviewsExample.ipynb.\n",
    "Text preprocessing before creating FastText embeddings includes:\n",
    "\n",
    "removing digits\n",
    "isolating punctuation and\n",
    "replacing consecutive spaces with single one."
   ]
  },
  {
   "cell_type": "markdown",
   "metadata": {
    "id": "8CL3UszaVufz"
   },
   "source": [
    "Step 4\n",
    "Using CountVectorizer from sklearn package create the vocabulary of all words from comments except rare ones. (See notebook MScA_32017_AMLAI_TC3_WineReviewsExample.ipynb)."
   ]
  },
  {
   "cell_type": "markdown",
   "metadata": {
    "id": "5j2UGoU4Vutl"
   },
   "source": [
    "Step 5\n",
    "Prepare input data for neural network as shown in MScA_32017_AMLAI_TC3_WineReviewsExample.ipynb.\n",
    "\n",
    "Preparation includes the following actions:\n",
    "\n",
    "Transform each text to sequence of integer numbers replacing each word with its vocabulary index\n",
    "Make all vectors same length, truncating sequences longer than defined length and padding shorter ones."
   ]
  },
  {
   "cell_type": "markdown",
   "metadata": {
    "id": "lgWzUqBaVu-l"
   },
   "source": [
    "Step 6\n",
    "Split train data into train and validation sets using the method of multilabel dataset splitting from MScA_32017_AMLAI_TC1_NLP_Basics.ipynb)."
   ]
  },
  {
   "cell_type": "markdown",
   "metadata": {
    "id": "fTpf3GR_VrXw"
   },
   "source": [
    "Step 7\n",
    "Create neural network, tune it on train set and make submission. Start with the network architechture from MScA_32017_AMLAI_TC3_WineReviewsExample.ipynb and try to improve it.\n",
    "\n",
    "Suggestion: learn and try using GlobalAveragePooling1D or GlobalMaxPooling1D layers instead of simple Flatten layer. You may also try to use both of them and concatenate their ouputs.\n",
    "\n",
    "MaxPooling layer has already been used in Satelite Image Detection project. The only difference between MaxPooling and AveragePooling is that average used instead of maximum."
   ]
  },
  {
   "cell_type": "markdown",
   "metadata": {
    "id": "tWNBIij0RLCQ"
   },
   "source": [
    "Step 8\n",
    "Create neural network based on DistilBert model as shown in MScA_32017_AMLAI_TC6_Wine_Reviews_Bert.ipynb, tune it on train set and make submission. Take a weighted average of this submission and the one obtained on the step 7 to get better score."
   ]
  },
  {
   "cell_type": "code",
   "execution_count": 16,
   "metadata": {
    "colab": {
     "base_uri": "https://localhost:8080/"
    },
    "executionInfo": {
     "elapsed": 146,
     "status": "ok",
     "timestamp": 1628554992479,
     "user": {
      "displayName": "Surendiran R",
      "photoUrl": "",
      "userId": "18390139258981184421"
     },
     "user_tz": 300
    },
    "id": "s6TtLNOHZSj8",
    "outputId": "5fa31fe0-8038-4d01-ee7f-e433458618f7"
   },
   "outputs": [
    {
     "name": "stdout",
     "output_type": "stream",
     "text": [
      "/content/drive/My Drive/distilbert-base-uncased\n"
     ]
    }
   ],
   "source": [
    "print(\"model_path:\", model_path)"
   ]
  },
  {
   "cell_type": "code",
   "execution_count": 17,
   "metadata": {
    "colab": {
     "base_uri": "https://localhost:8080/"
    },
    "executionInfo": {
     "elapsed": 134,
     "status": "ok",
     "timestamp": 1628554993977,
     "user": {
      "displayName": "Surendiran R",
      "photoUrl": "",
      "userId": "18390139258981184421"
     },
     "user_tz": 300
    },
    "id": "3fhpdc3of9Bq",
    "outputId": "43e6f0d8-f3e6-4d80-e351-0cc56d31cbef"
   },
   "outputs": [
    {
     "name": "stdout",
     "output_type": "stream",
     "text": [
      "Import Transformers\n",
      "/content/drive/My Drive/distilbert-base-uncased\n"
     ]
    }
   ],
   "source": [
    "print('Import Transformers')\n",
    "if RCC:\n",
    "    modelfolder = MODEL\n",
    "else:\n",
    "    modelfolder = os.fspath(model_path)\n",
    "print(modelfolder)"
   ]
  },
  {
   "cell_type": "markdown",
   "metadata": {
    "id": "jqKa2LHRgG1h"
   },
   "source": [
    "The pretrained models come with their generic tokenizers. The library contains tokenizers for all the models. Most of the tokenizers are available in two flavors: a full python implementation and a “Fast” implementation. The “Fast” implementations allows a significant speed-up in particular when doing batched tokenization and a number of additional methods. If one set parameter use_fast=True (bool, optional, defaults to True) calling AutoTokenizer.from_pretrained method, the fast version of the tokenizer will be downloaded (if any).\n",
    "\n",
    "Load the model 'distilbert-base-uncased' and fast tokenizer from the repository."
   ]
  },
  {
   "cell_type": "code",
   "execution_count": 18,
   "metadata": {
    "colab": {
     "base_uri": "https://localhost:8080/"
    },
    "executionInfo": {
     "elapsed": 4653,
     "status": "ok",
     "timestamp": 1628555003035,
     "user": {
      "displayName": "Surendiran R",
      "photoUrl": "",
      "userId": "18390139258981184421"
     },
     "user_tz": 300
    },
    "id": "1f6D8aOlgRvA",
    "outputId": "f079062c-5e78-4459-9906-eacd86f75521"
   },
   "outputs": [
    {
     "name": "stdout",
     "output_type": "stream",
     "text": [
      "<transformers.models.distilbert.modeling_tf_distilbert.TFDistilBertModel object at 0x7f8536d9a5d0>\n",
      "PreTrainedTokenizerFast(name_or_path='/content/drive/My Drive/distilbert-base-uncased', vocab_size=30522, model_max_len=512, is_fast=True, padding_side='right', special_tokens={'unk_token': '[UNK]', 'sep_token': '[SEP]', 'pad_token': '[PAD]', 'cls_token': '[CLS]', 'mask_token': '[MASK]'})\n"
     ]
    }
   ],
   "source": [
    "logging.set_verbosity(logging.ERROR)  # suppress warnings, output errors only\n",
    "transformer = TFAutoModel.from_pretrained(modelfolder)\n",
    "tokenizer = AutoTokenizer.from_pretrained(modelfolder)\n",
    "print(transformer)\n",
    "print(tokenizer)"
   ]
  },
  {
   "cell_type": "markdown",
   "metadata": {
    "id": "GnSdrb2CgZ57"
   },
   "source": [
    "**Tokenization**\n",
    "\n",
    "Transformer models do not require typical preprocessing.\n",
    "Just call the model specific tokenizer on raw texts.\n",
    "\n",
    "Create function encode_data() that prepares the text and encodes it."
   ]
  },
  {
   "cell_type": "code",
   "execution_count": 19,
   "metadata": {
    "executionInfo": {
     "elapsed": 9,
     "status": "ok",
     "timestamp": 1628555003037,
     "user": {
      "displayName": "Surendiran R",
      "photoUrl": "",
      "userId": "18390139258981184421"
     },
     "user_tz": 300
    },
    "id": "QJ-PoOK5gcVU"
   },
   "outputs": [],
   "source": [
    "def encode_data(data, max_len):\n",
    "    enc_data = tokenizer(data,max_length=max_len, return_token_type_ids=False,\n",
    "                         padding=True, truncation=True)\n",
    "    return [np.array(enc_data[k]) for k in ['input_ids','attention_mask']]"
   ]
  },
  {
   "cell_type": "code",
   "execution_count": 20,
   "metadata": {
    "executionInfo": {
     "elapsed": 83692,
     "status": "ok",
     "timestamp": 1628555086888,
     "user": {
      "displayName": "Surendiran R",
      "photoUrl": "",
      "userId": "18390139258981184421"
     },
     "user_tz": 300
    },
    "id": "musUmTM2guxb"
   },
   "outputs": [],
   "source": [
    "MAX_LEN = 512\n",
    "train_data = encode_data(train['comment_text'].values.tolist(), max_len=MAX_LEN)\n",
    "test_data = encode_data(test['comment_text'].values.tolist(), max_len=MAX_LEN)"
   ]
  },
  {
   "cell_type": "markdown",
   "metadata": {
    "id": "JZz70raig-K2"
   },
   "source": [
    "**Build a classifier using pretrained DistilBERT**\n",
    "\n",
    "Now build a classifier model using the pretrained transformer.\n",
    "DistilBERT model ouput is in the form of a tuple.\n",
    "\n",
    "####\n",
    "\n",
    "Since transformer requires both input_ids and attention_mask, we can implement it as Keras model with two inputs. For the purpose of classification of texts it is enough to select just the first vector from the output of the DistilBERT model: attention associated with the first token [CLS] of the text.\n",
    "Pass this vector to the Dense layer with single unit and sigmoid activation which actually implements a logistic regression model.\n",
    "The function get_model() creates and compiles the model."
   ]
  },
  {
   "cell_type": "code",
   "execution_count": 21,
   "metadata": {
    "executionInfo": {
     "elapsed": 8,
     "status": "ok",
     "timestamp": 1628555090543,
     "user": {
      "displayName": "Surendiran R",
      "photoUrl": "",
      "userId": "18390139258981184421"
     },
     "user_tz": 300
    },
    "id": "pTgTg9S_g2lz"
   },
   "outputs": [],
   "source": [
    "def get_model(transformer):\n",
    "    input_word_ids = Input(shape=(MAX_LEN,), dtype=tf.int32, name=\"input_word_ids\")\n",
    "    input_att_mask = Input(shape=(MAX_LEN,), dtype=tf.int8, name=\"input_att_mask\")\n",
    "    transformer.trainable = False\n",
    "    x = transformer([input_word_ids,input_att_mask])[0][:, 0, :]  \n",
    "    out = Dense(num_classes, activation='sigmoid',name = 'custom_dense')(x)\n",
    "    model = Model(inputs=[input_word_ids,input_att_mask], outputs=out)\n",
    "    model.compile(loss=\"binary_crossentropy\", \n",
    "                  optimizer=Adam(learning_rate=1e-4))\n",
    "    return model"
   ]
  },
  {
   "cell_type": "markdown",
   "metadata": {
    "id": "DxCPxYf0hFOz"
   },
   "source": [
    "The output of get_model(transformer) is the model consisting of two parts. Backbone - DistilBERT model with pretrained weights creating the feature and the \"classification head\" which is a \"custom\" trainable dense layer with randomly initiated weights.\n",
    "Model fitting is a two-step procedure.\n",
    "During step 1 the pretrained DistilBERT weights are frozen (transformer.trainable = False) and only the classification head is trained with learning_rate = 0.001. During step 2 all weights get trained, including the weights of the DistilBERT model."
   ]
  },
  {
   "cell_type": "markdown",
   "metadata": {
    "id": "UUv-J-C_hIBO"
   },
   "source": [
    "**Split the train data into train and validation parts**"
   ]
  },
  {
   "cell_type": "code",
   "execution_count": 22,
   "metadata": {
    "colab": {
     "base_uri": "https://localhost:8080/"
    },
    "executionInfo": {
     "elapsed": 7,
     "status": "ok",
     "timestamp": 1628555090544,
     "user": {
      "displayName": "Surendiran R",
      "photoUrl": "",
      "userId": "18390139258981184421"
     },
     "user_tz": 300
    },
    "id": "YcIKTH1no36C",
    "outputId": "d9c0505e-e5eb-458f-a3d0-b7cc6da5726d"
   },
   "outputs": [
    {
     "data": {
      "text/plain": [
       "array([[0, 0, 0, 0, 0, 0],\n",
       "       [0, 0, 0, 0, 0, 0],\n",
       "       [0, 0, 0, 0, 0, 0],\n",
       "       ...,\n",
       "       [0, 0, 0, 0, 0, 0],\n",
       "       [1, 0, 1, 0, 1, 0],\n",
       "       [0, 0, 0, 0, 0, 0]])"
      ]
     },
     "execution_count": 22,
     "metadata": {
      "tags": []
     },
     "output_type": "execute_result"
    }
   ],
   "source": [
    "labels =  train[types].values\n",
    "labels"
   ]
  },
  {
   "cell_type": "code",
   "execution_count": 23,
   "metadata": {
    "executionInfo": {
     "elapsed": 690,
     "status": "ok",
     "timestamp": 1628555091229,
     "user": {
      "displayName": "Surendiran R",
      "photoUrl": "",
      "userId": "18390139258981184421"
     },
     "user_tz": 300
    },
    "id": "Q4nYCvbIhJfO"
   },
   "outputs": [],
   "source": [
    "id_train,id_test,att_train,att_test,y_train,y_test = train_test_split(train_data[0], train_data[1],\n",
    "                labels, test_size=0.2)\n",
    "X_train, X_test = [id_train,att_train],[id_test,att_test]"
   ]
  },
  {
   "cell_type": "markdown",
   "metadata": {
    "id": "z3ma7SKNhVt8"
   },
   "source": [
    "**Train the model**\n",
    "\n",
    "Step 1. Classification head training.\n",
    "During this step train only the classifier head.\n",
    "\n"
   ]
  },
  {
   "cell_type": "code",
   "execution_count": 24,
   "metadata": {
    "colab": {
     "base_uri": "https://localhost:8080/"
    },
    "executionInfo": {
     "elapsed": 37358,
     "status": "ok",
     "timestamp": 1628555128578,
     "user": {
      "displayName": "Surendiran R",
      "photoUrl": "",
      "userId": "18390139258981184421"
     },
     "user_tz": 300
    },
    "id": "gWHw16vphcEM",
    "outputId": "c0ff5ae5-c5c4-41ec-9624-0eb14e81f635"
   },
   "outputs": [
    {
     "name": "stdout",
     "output_type": "stream",
     "text": [
      "WARNING:tensorflow:The parameters `output_attentions`, `output_hidden_states` and `use_cache` cannot be updated when calling a model.They have to be set to True/False in the config object (i.e.: `config=XConfig.from_pretrained('name', output_attentions=True)`).\n",
      "WARNING:tensorflow:AutoGraph could not transform <bound method Socket.send of <zmq.sugar.socket.Socket object at 0x7f85eec2fde0>> and will run it as-is.\n",
      "Please report this to the TensorFlow team. When filing the bug, set the verbosity to 10 (on Linux, `export AUTOGRAPH_VERBOSITY=10`) and attach the full output.\n",
      "Cause: module, class, method, function, traceback, frame, or code object was expected, got cython_function_or_method\n",
      "To silence this warning, decorate the function with @tf.autograph.experimental.do_not_convert\n",
      "WARNING: AutoGraph could not transform <bound method Socket.send of <zmq.sugar.socket.Socket object at 0x7f85eec2fde0>> and will run it as-is.\n",
      "Please report this to the TensorFlow team. When filing the bug, set the verbosity to 10 (on Linux, `export AUTOGRAPH_VERBOSITY=10`) and attach the full output.\n",
      "Cause: module, class, method, function, traceback, frame, or code object was expected, got cython_function_or_method\n",
      "To silence this warning, decorate the function with @tf.autograph.experimental.do_not_convert\n",
      "WARNING:tensorflow:AutoGraph could not transform <function wrap at 0x7f8619de2170> and will run it as-is.\n",
      "Cause: while/else statement not yet supported\n",
      "To silence this warning, decorate the function with @tf.autograph.experimental.do_not_convert\n",
      "WARNING: AutoGraph could not transform <function wrap at 0x7f8619de2170> and will run it as-is.\n",
      "Cause: while/else statement not yet supported\n",
      "To silence this warning, decorate the function with @tf.autograph.experimental.do_not_convert\n",
      "WARNING:tensorflow:The parameter `return_dict` cannot be set in graph mode and will always be set to `True`.\n",
      "WARNING:tensorflow:From /usr/local/lib/python3.7/dist-packages/tensorflow/python/ops/array_ops.py:5049: calling gather (from tensorflow.python.ops.array_ops) with validate_indices is deprecated and will be removed in a future version.\n",
      "Instructions for updating:\n",
      "The `validate_indices` argument has no effect. Indices are always validated on CPU and never validated on GPU.\n",
      "Model: \"model\"\n",
      "__________________________________________________________________________________________________\n",
      "Layer (type)                    Output Shape         Param #     Connected to                     \n",
      "==================================================================================================\n",
      "input_word_ids (InputLayer)     [(None, 512)]        0                                            \n",
      "__________________________________________________________________________________________________\n",
      "input_att_mask (InputLayer)     [(None, 512)]        0                                            \n",
      "__________________________________________________________________________________________________\n",
      "tf_distil_bert_model (TFDistilB TFBaseModelOutput(la 66362880    input_word_ids[0][0]             \n",
      "                                                                 input_att_mask[0][0]             \n",
      "__________________________________________________________________________________________________\n",
      "tf.__operators__.getitem (Slici (None, 768)          0           tf_distil_bert_model[0][0]       \n",
      "__________________________________________________________________________________________________\n",
      "custom_dense (Dense)            (None, 6)            4614        tf.__operators__.getitem[0][0]   \n",
      "==================================================================================================\n",
      "Total params: 66,367,494\n",
      "Trainable params: 4,614\n",
      "Non-trainable params: 66,362,880\n",
      "__________________________________________________________________________________________________\n",
      "Model: classifier head traning only: \n",
      " None\n"
     ]
    }
   ],
   "source": [
    "best_model_path = 'ToxicComments_best_model_DistillBERT.h5'\n",
    "# save the best model to a file\n",
    "chp = ModelCheckpoint(best_model_path,save_best_only=True,save_weights_only=True)\n",
    "model = get_model(transformer)\n",
    "print('Model: classifier head traning only: \\n',model.summary())"
   ]
  },
  {
   "cell_type": "markdown",
   "metadata": {
    "id": "mvS6jEXFhmku"
   },
   "source": [
    "**Step 1. Fine-tuning of all parameters**\n",
    "\n",
    "\n",
    "Now make all weights trainable and train the model for 3 more epochs.\n",
    "For the purposes of fine-tuning, the authors of the BERT paper recommend choosing low learnig rate, typicaly from 2e-5 to 5e-5.\n",
    "They also note that fine-tuning on the small datasets may be unstable and requires several runs.\n",
    "\n",
    "Make the DistilBERT model trainable."
   ]
  },
  {
   "cell_type": "code",
   "execution_count": 39,
   "metadata": {
    "colab": {
     "base_uri": "https://localhost:8080/"
    },
    "executionInfo": {
     "elapsed": 181,
     "status": "ok",
     "timestamp": 1628555465562,
     "user": {
      "displayName": "Surendiran R",
      "photoUrl": "",
      "userId": "18390139258981184421"
     },
     "user_tz": 300
    },
    "id": "lvrTirwdho-Q",
    "outputId": "1eeefdbe-328f-4c2f-842f-fc428583225b"
   },
   "outputs": [
    {
     "name": "stdout",
     "output_type": "stream",
     "text": [
      "Model: \"model\"\n",
      "__________________________________________________________________________________________________\n",
      "Layer (type)                    Output Shape         Param #     Connected to                     \n",
      "==================================================================================================\n",
      "input_word_ids (InputLayer)     [(None, 512)]        0                                            \n",
      "__________________________________________________________________________________________________\n",
      "input_att_mask (InputLayer)     [(None, 512)]        0                                            \n",
      "__________________________________________________________________________________________________\n",
      "tf_distil_bert_model (TFDistilB TFBaseModelOutput(la 66362880    input_word_ids[0][0]             \n",
      "                                                                 input_att_mask[0][0]             \n",
      "__________________________________________________________________________________________________\n",
      "tf.__operators__.getitem (Slici (None, 768)          0           tf_distil_bert_model[0][0]       \n",
      "__________________________________________________________________________________________________\n",
      "custom_dense (Dense)            (None, 6)            4614        tf.__operators__.getitem[0][0]   \n",
      "==================================================================================================\n",
      "Total params: 66,367,494\n",
      "Trainable params: 66,367,494\n",
      "Non-trainable params: 0\n",
      "__________________________________________________________________________________________________\n",
      "Model: transformer and classifier traning together: \n",
      " None\n"
     ]
    }
   ],
   "source": [
    "model.trainable = True\n",
    "model.compile(loss=\"binary_crossentropy\", \n",
    "              optimizer=Adam(learning_rate=2e-4), metrics=[\"acc\",\"AUC\"])\n",
    "print('Model: transformer and classifier traning together: \\n',\n",
    "      model.summary())"
   ]
  },
  {
   "cell_type": "code",
   "execution_count": 42,
   "metadata": {
    "colab": {
     "base_uri": "https://localhost:8080/"
    },
    "executionInfo": {
     "elapsed": 875,
     "status": "ok",
     "timestamp": 1628555523086,
     "user": {
      "displayName": "Surendiran R",
      "photoUrl": "",
      "userId": "18390139258981184421"
     },
     "user_tz": 300
    },
    "id": "EA-LoevKc7gc",
    "outputId": "77d0b116-3c57-4baf-a4dc-eac0fbfc927e"
   },
   "outputs": [
    {
     "data": {
      "text/plain": [
       "(2, 178839, 512)"
      ]
     },
     "execution_count": 42,
     "metadata": {
      "tags": []
     },
     "output_type": "execute_result"
    }
   ],
   "source": [
    "np.shape(X_train)"
   ]
  },
  {
   "cell_type": "code",
   "execution_count": 73,
   "metadata": {
    "colab": {
     "base_uri": "https://localhost:8080/"
    },
    "executionInfo": {
     "elapsed": 472,
     "status": "ok",
     "timestamp": 1628556400779,
     "user": {
      "displayName": "Surendiran R",
      "photoUrl": "",
      "userId": "18390139258981184421"
     },
     "user_tz": 300
    },
    "id": "7PXZeEDnemzh",
    "outputId": "d14ef902-d56e-4702-8441-721da55d849e"
   },
   "outputs": [
    {
     "data": {
      "text/plain": [
       "(2, 178839, 512)"
      ]
     },
     "execution_count": 73,
     "metadata": {
      "tags": []
     },
     "output_type": "execute_result"
    }
   ],
   "source": [
    "np.array(X_train)[0:2][0:10000,:][0:10000,:].shape"
   ]
  },
  {
   "cell_type": "code",
   "execution_count": null,
   "metadata": {
    "colab": {
     "base_uri": "https://localhost:8080/"
    },
    "id": "yumO0I1ihr3l",
    "outputId": "f098c6c4-365c-4aca-9756-b98902e85957"
   },
   "outputs": [
    {
     "name": "stdout",
     "output_type": "stream",
     "text": [
      "Epoch 1/3\n",
      "WARNING:tensorflow:The parameters `output_attentions`, `output_hidden_states` and `use_cache` cannot be updated when calling a model.They have to be set to True/False in the config object (i.e.: `config=XConfig.from_pretrained('name', output_attentions=True)`).\n",
      "WARNING:tensorflow:The parameter `return_dict` cannot be set in graph mode and will always be set to `True`.\n",
      "WARNING:tensorflow:The parameters `output_attentions`, `output_hidden_states` and `use_cache` cannot be updated when calling a model.They have to be set to True/False in the config object (i.e.: `config=XConfig.from_pretrained('name', output_attentions=True)`).\n",
      "WARNING:tensorflow:The parameter `return_dict` cannot be set in graph mode and will always be set to `True`.\n",
      "  13/5589 [..............................] - ETA: 93:53:00 - loss: 0.2236 - acc: 0.3389 - auc: 0.6661"
     ]
    }
   ],
   "source": [
    "BATCH_SIZE = 64\n",
    "chp = ModelCheckpoint(best_model_path,save_best_only=True,save_weights_only=True)\n",
    "hist = model.fit(X_train, y_train,validation_data=(X_test, y_test),\n",
    "                epochs=3, batch_size=BATCH_SIZE, shuffle=True, verbose=1,\n",
    "                callbacks=[chp])"
   ]
  },
  {
   "cell_type": "code",
   "execution_count": null,
   "metadata": {
    "executionInfo": {
     "elapsed": 17,
     "status": "aborted",
     "timestamp": 1628554518461,
     "user": {
      "displayName": "Surendiran R",
      "photoUrl": "",
      "userId": "18390139258981184421"
     },
     "user_tz": 300
    },
    "id": "_JkRoRNjhuND"
   },
   "outputs": [],
   "source": [
    "model.load_weights(best_model_path)\n",
    "test_pred = model.predict(X_test, batch_size=BATCH_SIZE, verbose=0)\n",
    "print('AUC after head finetuning',roc_auc_score(y_test, test_pred))"
   ]
  },
  {
   "cell_type": "code",
   "execution_count": null,
   "metadata": {
    "executionInfo": {
     "elapsed": 21,
     "status": "aborted",
     "timestamp": 1628554518467,
     "user": {
      "displayName": "Surendiran R",
      "photoUrl": "",
      "userId": "18390139258981184421"
     },
     "user_tz": 300
    },
    "id": "zralJUAUwMPT"
   },
   "outputs": [],
   "source": [
    "# | Metrics\n",
    "train_auc_metrics = [tf.keras.metrics.AUC() for i in range(len(label_cols))]\n",
    "validation_auc_metrics = [tf.keras.metrics.AUC() for i in range(len(label_cols))]"
   ]
  },
  {
   "cell_type": "code",
   "execution_count": null,
   "metadata": {
    "executionInfo": {
     "elapsed": 21,
     "status": "aborted",
     "timestamp": 1628554518468,
     "user": {
      "displayName": "Surendiran R",
      "photoUrl": "",
      "userId": "18390139258981184421"
     },
     "user_tz": 300
    },
    "id": "qnPMO3tnv72J"
   },
   "outputs": [],
   "source": [
    "def compute_aucs(predictions, labels):\n",
    "    num_classes = predictions.shape[1]\n",
    "    aucs = np.zeros(num_classes)\n",
    "    for i in range(num_classes):\n",
    "        aucs[i] = roc_auc_score(labels[:, i], predictions[:, i])\n",
    "    return aucs"
   ]
  },
  {
   "cell_type": "code",
   "execution_count": null,
   "metadata": {
    "executionInfo": {
     "elapsed": 21,
     "status": "aborted",
     "timestamp": 1628554518468,
     "user": {
      "displayName": "Surendiran R",
      "photoUrl": "",
      "userId": "18390139258981184421"
     },
     "user_tz": 300
    },
    "id": "REPnkZOkv-v6"
   },
   "outputs": [],
   "source": [
    "compute_aucs(test_pred,types)"
   ]
  },
  {
   "cell_type": "markdown",
   "metadata": {
    "id": "oK6zzUJMsaPr"
   },
   "source": [
    "** Predict Test Data**"
   ]
  },
  {
   "cell_type": "code",
   "execution_count": null,
   "metadata": {
    "executionInfo": {
     "elapsed": 162,
     "status": "aborted",
     "timestamp": 1628554518609,
     "user": {
      "displayName": "Surendiran R",
      "photoUrl": "",
      "userId": "18390139258981184421"
     },
     "user_tz": 300
    },
    "id": "WyRz3yt0sZaM"
   },
   "outputs": [],
   "source": [
    "test_predictions = model.predict(test_data)"
   ]
  },
  {
   "cell_type": "markdown",
   "metadata": {
    "id": "UHS_vVkvV6vl"
   },
   "source": [
    "Submission File\n",
    "For each id in the tc_test.csv file predict probability for each of the six possible types of comment toxicity (\"toxic\", \"severe_toxic\", \"obscene\", \"threat\", \"insult\", \"identity_hate\"). Columns must be in the same order as shown below. The file should contain header and have the following format:\n",
    "\n",
    "**id,toxic,severe_toxic,obscene,threat,insult,identity_hate**\n",
    "\n",
    "*00001cee341fdb12,0.8,0.5,0.7,0.5,0.5,0.5*\n",
    "\n",
    "*0000247867823ef7,0.005,0.5,0.11,0.5,0.5,0.5 etc.*"
   ]
  },
  {
   "cell_type": "code",
   "execution_count": null,
   "metadata": {
    "executionInfo": {
     "elapsed": 165,
     "status": "aborted",
     "timestamp": 1628554518612,
     "user": {
      "displayName": "Surendiran R",
      "photoUrl": "",
      "userId": "18390139258981184421"
     },
     "user_tz": 300
    },
    "id": "fxMek_f7tF4u"
   },
   "outputs": [],
   "source": [
    "test_id['id'] = test.index\n",
    "test_withpredict = pd.concat([test_id, pd.DataFrame(test_predictions)], axis=1)\n",
    "test_withpredict = ['id', types]"
   ]
  },
  {
   "cell_type": "code",
   "execution_count": null,
   "metadata": {
    "executionInfo": {
     "elapsed": 166,
     "status": "aborted",
     "timestamp": 1628554518613,
     "user": {
      "displayName": "Surendiran R",
      "photoUrl": "",
      "userId": "18390139258981184421"
     },
     "user_tz": 300
    },
    "id": "rOeSD4mYvRfI"
   },
   "outputs": [],
   "source": [
    "test_withpredict.head()"
   ]
  },
  {
   "cell_type": "markdown",
   "metadata": {
    "id": "8a94DRyCV8DG"
   },
   "source": [
    "Evaluation\n",
    "Submissions are evaluated on the mean column-wise ROC AUC. In other words, the score is the average of the individual AUCs of each predicted column.\n",
    "ROC AUC of your submission should be greater than 0.98 to get 100 points.\n",
    "\n",
    "Upload the saved file using shiny test application."
   ]
  },
  {
   "cell_type": "code",
   "execution_count": null,
   "metadata": {
    "executionInfo": {
     "elapsed": 165,
     "status": "aborted",
     "timestamp": 1628554518613,
     "user": {
      "displayName": "Surendiran R",
      "photoUrl": "",
      "userId": "18390139258981184421"
     },
     "user_tz": 300
    },
    "id": "_togQtBovTjK"
   },
   "outputs": [],
   "source": [
    "#np.savetxt(dataPath+'submission.csv', test_class_pred, fmt='%d', delimiter=',')"
   ]
  },
  {
   "cell_type": "code",
   "execution_count": null,
   "metadata": {
    "executionInfo": {
     "elapsed": 166,
     "status": "aborted",
     "timestamp": 1628554518614,
     "user": {
      "displayName": "Surendiran R",
      "photoUrl": "",
      "userId": "18390139258981184421"
     },
     "user_tz": 300
    },
    "id": "lgEAtz-7vdg3"
   },
   "outputs": [],
   "source": [
    "test_withpredict.to_csv(dataPath+'toxiccomments_test_submission.csv')"
   ]
  },
  {
   "cell_type": "code",
   "execution_count": null,
   "metadata": {
    "executionInfo": {
     "elapsed": 166,
     "status": "aborted",
     "timestamp": 1628554518614,
     "user": {
      "displayName": "Surendiran R",
      "photoUrl": "",
      "userId": "18390139258981184421"
     },
     "user_tz": 300
    },
    "id": "kRULjwWXzXDU"
   },
   "outputs": [],
   "source": [
    "#submission['id'] = test.index\n",
    "#submission['toxic'] = test_pred[0:, 0]\n",
    "#submission['severe_toxic'] = test_pred[0:, 1]\n",
    "#submission['obscene'] = test_pred[0:, 2]\n",
    "#submission['threat'] = test_pred[0:, 3]\n",
    "#submission['insult'] = test_pred[0:, 4]\n",
    "#submission['identity_hate'] = test_pred[0:, 5]\n",
    "#submission.to_csv('submission.csv', sep = ',', index = False)"
   ]
  }
 ],
 "metadata": {
  "colab": {
   "authorship_tag": "ABX9TyNYKky3l7FGuAVCdQdHFJGm",
   "collapsed_sections": [],
   "machine_shape": "hm",
   "name": "ADVML_DetectionToxicComments_DBERT_Assignment03.ipynb",
   "provenance": []
  },
  "kernelspec": {
   "display_name": "Python 3",
   "language": "python",
   "name": "python3"
  },
  "language_info": {
   "codemirror_mode": {
    "name": "ipython",
    "version": 3
   },
   "file_extension": ".py",
   "mimetype": "text/x-python",
   "name": "python",
   "nbconvert_exporter": "python",
   "pygments_lexer": "ipython3",
   "version": "3.8.8"
  }
 },
 "nbformat": 4,
 "nbformat_minor": 1
}
